{
 "cells": [
  {
   "cell_type": "code",
   "execution_count": null,
   "metadata": {},
   "outputs": [],
   "source": [
    "%pip install medmnist\n",
    "import os\n",
    "from medmnist import VesselMNIST3D\n",
    "\n",
    "os.makedirs('./medmnist', exist_ok=True)\n",
    "VesselMNIST3D(split=\"train\", download=True, root='./medmnist')"
   ]
  }
 ],
 "metadata": {
  "language_info": {
   "name": "python"
  }
 },
 "nbformat": 4,
 "nbformat_minor": 2
}
